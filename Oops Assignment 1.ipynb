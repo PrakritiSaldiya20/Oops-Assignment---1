{
 "cells": [
  {
   "cell_type": "code",
   "execution_count": 9,
   "id": "9c3a0ecb-3f58-4360-8926-6f9962c0bb91",
   "metadata": {},
   "outputs": [],
   "source": [
    "#1\n",
    "# In object-oriented programming (OOP), a class is a blueprint or template that defines the characteristics and behavior of a \n",
    "# particular type of object. It serves as a blueprint for creating objects, providing a set of attributes (data) and methods\n",
    "# (functions) that the objects will have.\n",
    "\n",
    "# An object, on the other hand, is an instance of a class. It represents a specific occurrence of the class and possesses its\n",
    "# own unique set of attribute values. An object can interact with other objects and perform actions based on the methods defined\n",
    "# in its class.\n",
    "\n",
    "class rectangle :\n",
    "    \n",
    "    def __init__(self, length , width) :\n",
    "        self.length = length\n",
    "        self.width = width\n",
    "        \n",
    "    def calculate_area(self):\n",
    "        return self.length * self.width\n",
    "    "
   ]
  },
  {
   "cell_type": "code",
   "execution_count": 3,
   "id": "4e22c8c6-dfcc-41bb-8228-fe7ae50ab292",
   "metadata": {},
   "outputs": [],
   "source": [
    "rec =rectangle(5, 6)"
   ]
  },
  {
   "cell_type": "code",
   "execution_count": 4,
   "id": "ee59c11e-aebd-4099-b7cb-c532dde3de20",
   "metadata": {},
   "outputs": [
    {
     "data": {
      "text/plain": [
       "5"
      ]
     },
     "execution_count": 4,
     "metadata": {},
     "output_type": "execute_result"
    }
   ],
   "source": [
    "rec.length"
   ]
  },
  {
   "cell_type": "code",
   "execution_count": 5,
   "id": "82b93d5b-4651-4314-ad85-b5ed18e17ef3",
   "metadata": {},
   "outputs": [
    {
     "data": {
      "text/plain": [
       "6"
      ]
     },
     "execution_count": 5,
     "metadata": {},
     "output_type": "execute_result"
    }
   ],
   "source": [
    "rec.width"
   ]
  },
  {
   "cell_type": "code",
   "execution_count": 7,
   "id": "bce1371e-be76-4d03-8086-69d3419bb55a",
   "metadata": {},
   "outputs": [
    {
     "data": {
      "text/plain": [
       "30"
      ]
     },
     "execution_count": 7,
     "metadata": {},
     "output_type": "execute_result"
    }
   ],
   "source": [
    "rec.calculate_area()"
   ]
  },
  {
   "cell_type": "code",
   "execution_count": 11,
   "id": "a654f29f-af4d-4fcd-ac45-620a28152a8c",
   "metadata": {},
   "outputs": [],
   "source": [
    "#2 \n",
    "\n",
    "# The four pillars of Oops are:\n",
    "\n",
    "# Encapsulation: Encapsulation is the process of combining data (attributes) and behaviors (methods) into a single unit called an \n",
    "# object. \n",
    "\n",
    "# Inheritance: Inheritance is a mechanism that allows a class (called a subclass or derived class) to inherit the properties and \n",
    "# methods of another class (called a superclass or base class).\n",
    "\n",
    "# Polymorphism: Polymorphism allows objects of different classes to be treated as objects of a common superclass.\n",
    "\n",
    "# Abstraction: Abstraction involves representing complex real-world entities or systems in simplified models within the program."
   ]
  },
  {
   "cell_type": "code",
   "execution_count": 16,
   "id": "4d4b3476-d0d9-4c3b-9032-8f686c9ae645",
   "metadata": {},
   "outputs": [],
   "source": [
    "#3\n",
    "class person:\n",
    "    \n",
    "    def __init__(self, name, age) :\n",
    "        self.name = name\n",
    "        self.age = age\n",
    "        \n",
    "        print (self.name , self.age)"
   ]
  },
  {
   "cell_type": "code",
   "execution_count": 17,
   "id": "0c71d519-ad01-4fb3-8c87-28e842e34942",
   "metadata": {},
   "outputs": [
    {
     "name": "stdout",
     "output_type": "stream",
     "text": [
      "sara 32\n"
     ]
    }
   ],
   "source": [
    "person1 = person(\"sara\" , 32)"
   ]
  },
  {
   "cell_type": "code",
   "execution_count": 18,
   "id": "a1c5a55f-b979-46f3-9a0e-65dfb07b46ba",
   "metadata": {},
   "outputs": [],
   "source": [
    "#4\n",
    "# In object-oriented programming (OOP), self is a convention used to refer to the instance of a class within its own methods.\n",
    "\n",
    "# Accessing attributes and methods: Using self, we can access the object's attributes and methods from within its own methods. \n",
    "# For example, self.attribute_name allows us to access an attribute of the object, and self.method_name() allows us to call a method \n",
    "# on the object.\n",
    "\n",
    "# Differentiating object scope: In a class, there can be multiple instances (objects) created. self helps differentiate the \n",
    "# attributes and methods of each specific object. It ensures that attribute values and method calls are specific to the instance on\n",
    "# which they are invoked, preventing ambiguity and allowing objects to maintain their individual state.\n",
    "\n",
    "# Object-oriented programming convention: The use of self is a convention in many object-oriented programming languages,\n",
    "# including Python. It helps improve code readability and maintainability by clearly indicating that the attribute or method being\n",
    "# accessed or called belongs to the object itself."
   ]
  },
  {
   "cell_type": "code",
   "execution_count": 19,
   "id": "78e9148a-13ba-4beb-bf6a-1b09724ad99f",
   "metadata": {},
   "outputs": [],
   "source": [
    "#5\n",
    "\n",
    "# Inheritance is a fundamental concept in object-oriented programming (OOP) that allows a class to inherit the properties and \n",
    "# methods of another class. It enables code reuse and establishes a hierarchical relationship between classes, where a derived class\n",
    "# inherits the characteristics of a base class. \n",
    "\n",
    "# There are several types of inheritance in OOP, including:\n",
    "\n",
    "# Single Inheritance: In single inheritance, a subclass inherits properties and methods from a single base class. \n",
    "\n",
    "class Animal:\n",
    "    def eat(self):\n",
    "        print(\"Eating...\")\n",
    "\n",
    "class Dog(Animal):\n",
    "    def bark(self):\n",
    "        print(\"Barking...\")\n",
    "\n",
    "\n",
    "# Multiple Inheritance: Multiple inheritance allows a subclass to inherit properties and methods from multiple base classes.\n",
    "\n",
    "class Animal:\n",
    "    def eat(self):\n",
    "        print(\"Eating...\")\n",
    "\n",
    "class Mammal:\n",
    "    def feed_milk(self):\n",
    "        print(\"Feeding milk...\")\n",
    "\n",
    "class Dolphin(Animal, Mammal):\n",
    "    def swim(self):\n",
    "        print(\"Swimming...\")\n"
   ]
  },
  {
   "cell_type": "code",
   "execution_count": null,
   "id": "1d80f559-cef8-4bcd-8aca-f9dc2868ef2c",
   "metadata": {},
   "outputs": [],
   "source": []
  }
 ],
 "metadata": {
  "kernelspec": {
   "display_name": "Python 3 (ipykernel)",
   "language": "python",
   "name": "python3"
  },
  "language_info": {
   "codemirror_mode": {
    "name": "ipython",
    "version": 3
   },
   "file_extension": ".py",
   "mimetype": "text/x-python",
   "name": "python",
   "nbconvert_exporter": "python",
   "pygments_lexer": "ipython3",
   "version": "3.10.8"
  }
 },
 "nbformat": 4,
 "nbformat_minor": 5
}
